{
 "cells": [
  {
   "cell_type": "code",
   "execution_count": null,
   "metadata": {},
   "outputs": [
    {
     "name": "stdout",
     "output_type": "stream",
     "text": [
      "可用的 GPU: [PhysicalDevice(name='/physical_device:GPU:0', device_type='GPU')]\n"
     ]
    }
   ],
   "source": [
    "import torch\n",
    "import torchvision\n",
    "import tensorboard as tb\n",
    "\n",
    "torch.cuda.is_available()\n",
    "\n"
   ]
  },
  {
   "cell_type": "code",
   "execution_count": null,
   "metadata": {},
   "outputs": [
    {
     "name": "stdout",
     "output_type": "stream",
     "text": [
      "60000\n",
      "10000\n",
      "(<PIL.Image.Image image mode=L size=28x28 at 0x7FF10D78AD70>, 5)\n",
      "<PIL.Image.Image image mode=L size=28x28 at 0x7FF114F54AF0>\n",
      "5\n"
     ]
    }
   ],
   "source": [
    "from torchvision import datasets, transforms\n",
    "from PIL import Image\n",
    "\n",
    "train_dataset = datasets.MNIST(root='./data', train=True, download=True)\n",
    "test_dataset = datasets.MNIST(root='./data', train=False, download=True)\n",
    "\n",
    "print(len(train_dataset))\n",
    "print(len(test_dataset))\n",
    "\n",
    "print(train_dataset[0])\n",
    "\n",
    "image, label = train_dataset[0]\n",
    "print(image)\n",
    "print(label)\n",
    "image.show()\n",
    "\n",
    "\n"
   ]
  }
 ],
 "metadata": {
  "kernelspec": {
   "display_name": "handwritten",
   "language": "python",
   "name": "python3"
  },
  "language_info": {
   "codemirror_mode": {
    "name": "ipython",
    "version": 3
   },
   "file_extension": ".py",
   "mimetype": "text/x-python",
   "name": "python",
   "nbconvert_exporter": "python",
   "pygments_lexer": "ipython3",
   "version": "3.10.16"
  }
 },
 "nbformat": 4,
 "nbformat_minor": 2
}
