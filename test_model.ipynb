{
 "cells": [
  {
   "cell_type": "code",
   "execution_count": 2,
   "metadata": {},
   "outputs": [],
   "source": [
    "import torch\n",
    "import torch.nn as nn\n",
    "\n",
    "# 定义模型\n",
    "class HwdrCNN(nn.Module):\n",
    "    def __init__(self):\n",
    "        super(HwdrCNN, self).__init__()\n",
    "        self.conv1 = nn.Conv2d(in_channels=1, out_channels=32, kernel_size=3, padding=1)\n",
    "        self.conv2 = nn.Conv2d(32, 64, kernel_size=3, padding=1) \n",
    "\n",
    "        self.activation = nn.ReLU()  # 激活函数\n",
    "        self.pool = nn.MaxPool2d(kernel_size=2, stride=2)  # 最大池化层\n",
    "\n",
    "        self.full_conn1 = nn.Linear(64 * 7 * 7, 128)  # 全连接层\n",
    "        self.full_conn2 = nn.Linear(128, 10)  # 输出层（10 个类别）\n",
    "\n",
    "    def forward(self, x):\n",
    "        # conv layer 1\n",
    "        x = self.conv1(x) \n",
    "        x = self.activation(x)\n",
    "        x = self.pool(x)\n",
    "\n",
    "        # conv layer 2\n",
    "        x = self.conv2(x)   \n",
    "        x = self.activation(x)\n",
    "        x = self.pool(x) \n",
    "\n",
    "        # 展开\n",
    "        x = x.view(-1, 64 * 7 * 7)\n",
    "\n",
    "        x = self.full_conn1(x)   \n",
    "        x = self.activation(x)  \n",
    "\n",
    "        x = self.full_conn2(x) \n",
    "        return x\n",
    "    "
   ]
  },
  {
   "cell_type": "code",
   "execution_count": 22,
   "metadata": {},
   "outputs": [],
   "source": [
    "import os\n",
    "from torchvision import transforms\n",
    "import torch.nn.functional as F\n",
    "from PIL import Image\n",
    "\n",
    "\n",
    "torch.cuda.is_available()\n",
    "SAVE_MODEL_DIR = \"./checkpoints\"\n",
    "\n",
    "device = torch.device(\"cuda\" if torch.cuda.is_available() else \"cpu\")"
   ]
  },
  {
   "cell_type": "code",
   "execution_count": 26,
   "metadata": {},
   "outputs": [
    {
     "name": "stdout",
     "output_type": "stream",
     "text": [
      "tensor([[  0.4652,  -4.4744,   4.0792,   3.9256,  -4.7411,  -8.8089,  -1.7267,\n",
      "          -7.2751,   0.4303, -10.5921]])\n",
      "0 : 0.0141\n",
      "1 : 0.0001\n",
      "2 : 0.5225\n",
      "3 : 0.4481\n",
      "4 : 0.0001\n",
      "5 : 0.0000\n",
      "6 : 0.0016\n",
      "7 : 0.0000\n",
      "8 : 0.0136\n",
      "9 : 0.0000\n",
      "预测结果: 2\n"
     ]
    }
   ],
   "source": [
    "model = HwdrCNN()\n",
    "\n",
    "# 加载模型\n",
    "para_path = os.path.join(SAVE_MODEL_DIR, os.listdir(SAVE_MODEL_DIR)[-1])\n",
    "model.load_state_dict(torch.load(para_path,weights_only=True))\n",
    "\n",
    "# print(model)\n",
    "\n",
    "test_data_dir = \"test_data\"\n",
    "test_image = os.listdir(test_data_dir)[0]\n",
    "test_image_oath = os.path.join(test_data_dir, test_image)\n",
    "\n",
    "\n",
    "transform = transforms.Compose([\n",
    "    transforms.Resize((28, 28)),  # 调整大小为28x28\n",
    "    transforms.ToTensor(),\n",
    "    transforms.Normalize((0.5,), (0.5,))  # 归一化\n",
    "])\n",
    "\n",
    "img = Image.open(test_image_oath).convert('L')  # 灰度图\n",
    "img.show()\n",
    "\n",
    "img = transform(img)  # 转换为张量\n",
    "img = img.unsqueeze(0)  # 增加batch维度\n",
    "\n",
    "\n",
    "model.eval()\n",
    "with torch.no_grad():  # 不计算梯度\n",
    "    output = model(img)\n",
    "\n",
    "print(output)\n",
    "\n",
    "probabilities = F.softmax(output, dim=1)  # dim=1表示对每一行进行softmax\n",
    "for i, prob in enumerate(probabilities[0]):\n",
    "    print(f'{i:1d} : {prob.item():.4f}')\n",
    "\n",
    "_, predicted = torch.max(output, 1)  # 获取预测的类别\n",
    "\n",
    "print(f'预测结果: {predicted.item()}')  # 输出预测的数字\n"
   ]
  }
 ],
 "metadata": {
  "kernelspec": {
   "display_name": "handwritten",
   "language": "python",
   "name": "python3"
  },
  "language_info": {
   "codemirror_mode": {
    "name": "ipython",
    "version": 3
   },
   "file_extension": ".py",
   "mimetype": "text/x-python",
   "name": "python",
   "nbconvert_exporter": "python",
   "pygments_lexer": "ipython3",
   "version": "3.10.16"
  }
 },
 "nbformat": 4,
 "nbformat_minor": 2
}
